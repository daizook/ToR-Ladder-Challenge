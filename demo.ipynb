{
 "cells": [
  {
   "cell_type": "code",
   "execution_count": 1,
   "metadata": {},
   "outputs": [
    {
     "name": "stderr",
     "output_type": "stream",
     "text": [
      "2024-10-11 20:43:18.277 INFO    numexpr.utils: Note: NumExpr detected 12 cores but \"NUMEXPR_MAX_THREADS\" not set, so enforcing safe limit of 8.\n",
      "2024-10-11 20:43:18.279 INFO    numexpr.utils: NumExpr defaulting to 8 threads.\n"
     ]
    }
   ],
   "source": [
    "import streamlit as st\n",
    "import pandas as pd\n",
    "import requests\n",
    "from bs4 import BeautifulSoup"
   ]
  },
  {
   "cell_type": "code",
   "execution_count": 11,
   "metadata": {},
   "outputs": [],
   "source": [
    "def getELOGXE(tier: str, showdownName: str):\n",
    "    \"\"\"\n",
    "    Returns ELO, GXE for any Pokemon Showdown username\n",
    "    tier -> example: gen9uu, gen9nationaldex, etc.\n",
    "    showdownURL example: uu5pi zook\n",
    "\n",
    "    usage of function: getELOGXE('gen9uu', 'uu5pi zook')\n",
    "    >> (1499.0, 79.1) -> (ELO, GXE)\n",
    "    \"\"\"\n",
    "\n",
    "    urlName = showdownName.replace(\" \", \"_\")\n",
    "    url = f'https://pokemonshowdown.com/users/{urlName}'\n",
    "    r = requests.get(url)\n",
    "    soup = BeautifulSoup(r.text)\n",
    "    sample_text = soup.text.replace('\\n', ' ')\n",
    "    try:\n",
    "        ELO = float(sample_text[sample_text.find(tier) + len(tier) : sample_text.find(tier) + len(tier) + 4])\n",
    "    except ValueError:\n",
    "        ELO = 1000\n",
    "    \n",
    "    try:\n",
    "        GXE = float(sample_text[sample_text.find(tier) + len(tier) + 4 : sample_text.find(tier) + len(tier) + 8])\n",
    "    except ValueError:\n",
    "        GXE = \"Needs more games.\"\n",
    "    \n",
    "    return ELO, GXE"
   ]
  },
  {
   "cell_type": "code",
   "execution_count": 12,
   "metadata": {},
   "outputs": [
    {
     "data": {
      "text/plain": [
       "(1499.0, 79.1)"
      ]
     },
     "execution_count": 12,
     "metadata": {},
     "output_type": "execute_result"
    }
   ],
   "source": [
    "tier = 'gen9uu'\n",
    "showdownName = 'uu5pi zook'\n",
    "\n",
    "getELOGXE(tier, showdownName)"
   ]
  },
  {
   "cell_type": "code",
   "execution_count": null,
   "metadata": {},
   "outputs": [],
   "source": []
  }
 ],
 "metadata": {
  "kernelspec": {
   "display_name": "base",
   "language": "python",
   "name": "python3"
  },
  "language_info": {
   "codemirror_mode": {
    "name": "ipython",
    "version": 3
   },
   "file_extension": ".py",
   "mimetype": "text/x-python",
   "name": "python",
   "nbconvert_exporter": "python",
   "pygments_lexer": "ipython3",
   "version": "3.9.7"
  }
 },
 "nbformat": 4,
 "nbformat_minor": 2
}
